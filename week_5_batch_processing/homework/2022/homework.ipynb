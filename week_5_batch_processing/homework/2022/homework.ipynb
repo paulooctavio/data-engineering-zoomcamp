{
 "cells": [
  {
   "cell_type": "markdown",
   "id": "ffdf52d7",
   "metadata": {},
   "source": [
    "## Question 1. Install Spark and PySpark"
   ]
  },
  {
   "cell_type": "code",
   "execution_count": 7,
   "id": "b8745c8b",
   "metadata": {},
   "outputs": [],
   "source": [
    "import pyspark\n",
    "from pyspark.sql import SparkSession\n",
    "\n",
    "spark = SparkSession.builder \\\n",
    "    .master('local[*]') \\\n",
    "    .appName('test') \\\n",
    "    .getOrCreate()"
   ]
  },
  {
   "cell_type": "code",
   "execution_count": 8,
   "id": "5e3f20a9",
   "metadata": {},
   "outputs": [
    {
     "data": {
      "text/plain": [
       "'3.0.3'"
      ]
     },
     "execution_count": 8,
     "metadata": {},
     "output_type": "execute_result"
    }
   ],
   "source": [
    "spark.version"
   ]
  },
  {
   "cell_type": "markdown",
   "id": "16bb2619",
   "metadata": {},
   "source": [
    "## Question 2. HVFHW February 2021"
   ]
  },
  {
   "cell_type": "code",
   "execution_count": 9,
   "id": "243f0767",
   "metadata": {},
   "outputs": [
    {
     "name": "stdout",
     "output_type": "stream",
     "text": [
      "--2022-07-24 18:31:39--  https://d37ci6vzurychx.cloudfront.net/trip-data/fhvhv_tripdata_2021-02.parquet\n",
      "Resolving d37ci6vzurychx.cloudfront.net (d37ci6vzurychx.cloudfront.net)... 18.67.3.63, 18.67.3.5, 18.67.3.108, ...\n",
      "Connecting to d37ci6vzurychx.cloudfront.net (d37ci6vzurychx.cloudfront.net)|18.67.3.63|:443... connected.\n",
      "HTTP request sent, awaiting response... 200 OK\n",
      "Length: 302633211 (289M) [application/x-www-form-urlencoded]\n",
      "Saving to: ‘fhvhv_tripdata_2021-02.parquet.1’\n",
      "\n",
      "fhvhv_tripdata_2021 100%[===================>] 288.61M  24.8MB/s    in 12s     \n",
      "\n",
      "2022-07-24 18:31:52 (23.4 MB/s) - ‘fhvhv_tripdata_2021-02.parquet.1’ saved [302633211/302633211]\n",
      "\n"
     ]
    }
   ],
   "source": [
    "# Downloading the HVFHV data for february 2021\n",
    "\n",
    "!wget https://d37ci6vzurychx.cloudfront.net/trip-data/fhvhv_tripdata_2021-02.parquet"
   ]
  },
  {
   "cell_type": "code",
   "execution_count": 10,
   "id": "c4b48524",
   "metadata": {},
   "outputs": [],
   "source": [
    "# Defining schema\n",
    "\n",
    "from pyspark.sql import types\n",
    "\n",
    "schema = types.StructType([\n",
    "    types.StructField('hvfhs_license_num', types.StringType(), True),\n",
    "    types.StructField('dispatching_base_num', types.StringType(), True),\n",
    "    types.StructField('originating_base_num', types.StringType(), True),\n",
    "    types.StructField('request_datetime', types.TimestampType(), True),\n",
    "    types.StructField('on_scene_datetime', types.TimestampType(), True),\n",
    "    types.StructField('pickup_datetime', types.TimestampType(), True),\n",
    "    types.StructField('dropoff_datetime', types.TimestampType(), True),\n",
    "    types.StructField('PULocationID', types.LongType(), True),\n",
    "    types.StructField('DOLocationID', types.LongType(), True),\n",
    "    types.StructField('trip_miles', types.DoubleType(), True),\n",
    "    types.StructField('trip_time', types.LongType(), True),\n",
    "    types.StructField('base_passenger_fare', types.DoubleType(), True),\n",
    "    types.StructField('tolls', types.DoubleType(), True),\n",
    "    types.StructField('bcf', types.DoubleType(), True),\n",
    "    types.StructField('sales_tax', types.DoubleType(), True),\n",
    "    types.StructField('congestion_surcharge', types.DoubleType(), True),\n",
    "    types.StructField('airport_fee', types.DoubleType(), True),\n",
    "    types.StructField('tips', types.DoubleType(), True),\n",
    "    types.StructField('driver_pay', types.DoubleType(), True),\n",
    "    types.StructField('shared_request_flag', types.StringType(), True),\n",
    "    types.StructField('shared_match_flag', types.StringType(), True),\n",
    "    types.StructField('access_a_ride_flag', types.StringType(), True),\n",
    "    types.StructField('wav_request_flag', types.StringType(), True),\n",
    "    types.StructField('wav_match_flag', types.StringType(), True)\n",
    "])"
   ]
  },
  {
   "cell_type": "code",
   "execution_count": 11,
   "id": "a7ef5560",
   "metadata": {},
   "outputs": [],
   "source": [
    "from pyspark.sql import functions as F\n",
    "\n",
    "# Reading parquet file with a defined schema\n",
    "df = spark.read \\\n",
    "    .option('header', 'true') \\\n",
    "    .schema(schema) \\\n",
    "    .parquet('fhvhv_tripdata_2021-02.parquet')\n",
    "\n",
    "# Selecting columns of interest\n",
    "df = df.select([\n",
    "    'hvfhs_license_num'\n",
    "    ,'dispatching_base_num'\n",
    "    ,'pickup_datetime'\n",
    "    ,'dropoff_datetime'\n",
    "    ,'PULocationID'\n",
    "    ,'DOLocationID'\n",
    "])\n",
    "\n",
    "# Casting from long to integer\n",
    "df = df.withColumn('PULocationID',F.col('PULocationID').cast('integer')) \\\n",
    "       .withColumn('DOLocationID',F.col('DOLocationID').cast('integer'))"
   ]
  },
  {
   "cell_type": "code",
   "execution_count": 12,
   "id": "0b7e6a57",
   "metadata": {},
   "outputs": [
    {
     "data": {
      "text/plain": [
       "[Row(hvfhs_license_num='HV0003', dispatching_base_num='B02764', pickup_datetime=datetime.datetime(2021, 2, 1, 0, 10, 40), dropoff_datetime=datetime.datetime(2021, 2, 1, 0, 21, 9), PULocationID=35, DOLocationID=39),\n",
       " Row(hvfhs_license_num='HV0003', dispatching_base_num='B02764', pickup_datetime=datetime.datetime(2021, 2, 1, 0, 27, 23), dropoff_datetime=datetime.datetime(2021, 2, 1, 0, 44, 1), PULocationID=39, DOLocationID=35),\n",
       " Row(hvfhs_license_num='HV0005', dispatching_base_num='B02510', pickup_datetime=datetime.datetime(2021, 2, 1, 0, 28, 38), dropoff_datetime=datetime.datetime(2021, 2, 1, 0, 38, 27), PULocationID=39, DOLocationID=91),\n",
       " Row(hvfhs_license_num='HV0005', dispatching_base_num='B02510', pickup_datetime=datetime.datetime(2021, 2, 1, 0, 43, 37), dropoff_datetime=datetime.datetime(2021, 2, 1, 1, 23, 20), PULocationID=91, DOLocationID=228),\n",
       " Row(hvfhs_license_num='HV0003', dispatching_base_num='B02872', pickup_datetime=datetime.datetime(2021, 2, 1, 0, 8, 42), dropoff_datetime=datetime.datetime(2021, 2, 1, 0, 17, 57), PULocationID=126, DOLocationID=250)]"
      ]
     },
     "execution_count": 12,
     "metadata": {},
     "output_type": "execute_result"
    }
   ],
   "source": [
    "df.head(5)"
   ]
  },
  {
   "cell_type": "code",
   "execution_count": 13,
   "id": "e335de84",
   "metadata": {},
   "outputs": [],
   "source": [
    "df = df.repartition(24)"
   ]
  },
  {
   "cell_type": "code",
   "execution_count": 14,
   "id": "c656d2c3",
   "metadata": {},
   "outputs": [
    {
     "name": "stderr",
     "output_type": "stream",
     "text": [
      "                                                                                \r"
     ]
    }
   ],
   "source": [
    "df.write.parquet('fhvhv/2021/02/', mode='overwrite')"
   ]
  },
  {
   "cell_type": "code",
   "execution_count": 15,
   "id": "ad6058b8",
   "metadata": {},
   "outputs": [
    {
     "name": "stdout",
     "output_type": "stream",
     "text": [
      "total 219M\r\n",
      "-rw-r--r-- 1 paulooctavio paulooctavio    0 Jul 24 18:32 _SUCCESS\r\n",
      "-rw-r--r-- 1 paulooctavio paulooctavio 9.1M Jul 24 18:32 part-00000-e999ead8-050a-477c-bb88-83ada34a2cdf-c000.snappy.parquet\r\n",
      "-rw-r--r-- 1 paulooctavio paulooctavio 9.1M Jul 24 18:32 part-00001-e999ead8-050a-477c-bb88-83ada34a2cdf-c000.snappy.parquet\r\n",
      "-rw-r--r-- 1 paulooctavio paulooctavio 9.1M Jul 24 18:32 part-00002-e999ead8-050a-477c-bb88-83ada34a2cdf-c000.snappy.parquet\r\n",
      "-rw-r--r-- 1 paulooctavio paulooctavio 9.1M Jul 24 18:32 part-00003-e999ead8-050a-477c-bb88-83ada34a2cdf-c000.snappy.parquet\r\n",
      "-rw-r--r-- 1 paulooctavio paulooctavio 9.1M Jul 24 18:32 part-00004-e999ead8-050a-477c-bb88-83ada34a2cdf-c000.snappy.parquet\r\n",
      "-rw-r--r-- 1 paulooctavio paulooctavio 9.1M Jul 24 18:32 part-00005-e999ead8-050a-477c-bb88-83ada34a2cdf-c000.snappy.parquet\r\n",
      "-rw-r--r-- 1 paulooctavio paulooctavio 9.1M Jul 24 18:32 part-00006-e999ead8-050a-477c-bb88-83ada34a2cdf-c000.snappy.parquet\r\n",
      "-rw-r--r-- 1 paulooctavio paulooctavio 9.1M Jul 24 18:32 part-00007-e999ead8-050a-477c-bb88-83ada34a2cdf-c000.snappy.parquet\r\n",
      "-rw-r--r-- 1 paulooctavio paulooctavio 9.1M Jul 24 18:32 part-00008-e999ead8-050a-477c-bb88-83ada34a2cdf-c000.snappy.parquet\r\n",
      "-rw-r--r-- 1 paulooctavio paulooctavio 9.1M Jul 24 18:32 part-00009-e999ead8-050a-477c-bb88-83ada34a2cdf-c000.snappy.parquet\r\n",
      "-rw-r--r-- 1 paulooctavio paulooctavio 9.1M Jul 24 18:32 part-00010-e999ead8-050a-477c-bb88-83ada34a2cdf-c000.snappy.parquet\r\n",
      "-rw-r--r-- 1 paulooctavio paulooctavio 9.1M Jul 24 18:32 part-00011-e999ead8-050a-477c-bb88-83ada34a2cdf-c000.snappy.parquet\r\n",
      "-rw-r--r-- 1 paulooctavio paulooctavio 9.1M Jul 24 18:32 part-00012-e999ead8-050a-477c-bb88-83ada34a2cdf-c000.snappy.parquet\r\n",
      "-rw-r--r-- 1 paulooctavio paulooctavio 9.1M Jul 24 18:32 part-00013-e999ead8-050a-477c-bb88-83ada34a2cdf-c000.snappy.parquet\r\n",
      "-rw-r--r-- 1 paulooctavio paulooctavio 9.1M Jul 24 18:32 part-00014-e999ead8-050a-477c-bb88-83ada34a2cdf-c000.snappy.parquet\r\n",
      "-rw-r--r-- 1 paulooctavio paulooctavio 9.1M Jul 24 18:32 part-00015-e999ead8-050a-477c-bb88-83ada34a2cdf-c000.snappy.parquet\r\n",
      "-rw-r--r-- 1 paulooctavio paulooctavio 9.1M Jul 24 18:32 part-00016-e999ead8-050a-477c-bb88-83ada34a2cdf-c000.snappy.parquet\r\n",
      "-rw-r--r-- 1 paulooctavio paulooctavio 9.1M Jul 24 18:32 part-00017-e999ead8-050a-477c-bb88-83ada34a2cdf-c000.snappy.parquet\r\n",
      "-rw-r--r-- 1 paulooctavio paulooctavio 9.1M Jul 24 18:32 part-00018-e999ead8-050a-477c-bb88-83ada34a2cdf-c000.snappy.parquet\r\n",
      "-rw-r--r-- 1 paulooctavio paulooctavio 9.1M Jul 24 18:32 part-00019-e999ead8-050a-477c-bb88-83ada34a2cdf-c000.snappy.parquet\r\n",
      "-rw-r--r-- 1 paulooctavio paulooctavio 9.1M Jul 24 18:32 part-00020-e999ead8-050a-477c-bb88-83ada34a2cdf-c000.snappy.parquet\r\n",
      "-rw-r--r-- 1 paulooctavio paulooctavio 9.1M Jul 24 18:32 part-00021-e999ead8-050a-477c-bb88-83ada34a2cdf-c000.snappy.parquet\r\n",
      "-rw-r--r-- 1 paulooctavio paulooctavio 9.1M Jul 24 18:32 part-00022-e999ead8-050a-477c-bb88-83ada34a2cdf-c000.snappy.parquet\r\n",
      "-rw-r--r-- 1 paulooctavio paulooctavio 9.1M Jul 24 18:32 part-00023-e999ead8-050a-477c-bb88-83ada34a2cdf-c000.snappy.parquet\r\n"
     ]
    }
   ],
   "source": [
    "!ls -lh fhvhv/2021/02/"
   ]
  },
  {
   "cell_type": "markdown",
   "id": "db09ff8d",
   "metadata": {},
   "source": [
    "## Question 3. Count records"
   ]
  },
  {
   "cell_type": "code",
   "execution_count": 16,
   "id": "f4deeae3",
   "metadata": {},
   "outputs": [
    {
     "name": "stderr",
     "output_type": "stream",
     "text": [
      "                                                                                \r"
     ]
    },
    {
     "data": {
      "text/plain": [
       "367170"
      ]
     },
     "execution_count": 16,
     "metadata": {},
     "output_type": "execute_result"
    }
   ],
   "source": [
    "# How many taxi trips were there on February 15?\n",
    "\n",
    "df = spark.read.parquet('fhvhv/2021/02/')\n",
    "\n",
    "df \\\n",
    "    .withColumn('pickup_date', F.to_date(df.pickup_datetime)) \\\n",
    "    .filter(\"pickup_date = '2021-02-15'\") \\\n",
    "    .count()"
   ]
  },
  {
   "cell_type": "markdown",
   "id": "2f910320",
   "metadata": {},
   "source": [
    "## Question 4. Longest trip for each day"
   ]
  },
  {
   "cell_type": "code",
   "execution_count": 47,
   "id": "7f97ed37",
   "metadata": {},
   "outputs": [
    {
     "name": "stdout",
     "output_type": "stream",
     "text": [
      "629\n"
     ]
    }
   ],
   "source": [
    "from datetime import datetime\n",
    "\n",
    "pickup_datetime=datetime(2021, 2, 1, 0, 10, 40)\n",
    "dropoff_datetime=datetime(2021, 2, 1, 0, 21, 9)\n",
    "print((dropoff_datetime - pickup_datetime).seconds)"
   ]
  },
  {
   "cell_type": "code",
   "execution_count": 48,
   "id": "d22db7bd",
   "metadata": {},
   "outputs": [],
   "source": [
    "# Defining function to calculate trip duration\n",
    "def trip_duration(pickup_datetime, dropoff_datetime):\n",
    "    return (dropoff_datetime - pickup_datetime).seconds\n",
    "\n",
    "# Creating user defined function\n",
    "trip_duration_udf = F.udf(trip_duration, returnType=types.IntegerType())"
   ]
  },
  {
   "cell_type": "code",
   "execution_count": 49,
   "id": "8adce922",
   "metadata": {},
   "outputs": [],
   "source": [
    "df = df.withColumn('trip_duration', trip_duration_udf(df.pickup_datetime, df.dropoff_datetime))"
   ]
  },
  {
   "cell_type": "code",
   "execution_count": 50,
   "id": "6c6f0b03",
   "metadata": {},
   "outputs": [],
   "source": [
    "df.registerTempTable(\"fhvhv_tripdata\")"
   ]
  },
  {
   "cell_type": "code",
   "execution_count": 51,
   "id": "a5f9d108",
   "metadata": {},
   "outputs": [
    {
     "name": "stderr",
     "output_type": "stream",
     "text": [
      "[Stage 69:====================================>                 (135 + 4) / 200]\r"
     ]
    },
    {
     "name": "stdout",
     "output_type": "stream",
     "text": [
      "+-----------+-------------+\n",
      "|pickup_date|trip_duration|\n",
      "+-----------+-------------+\n",
      "| 2021-02-11|        75540|\n",
      "| 2021-02-17|        57221|\n",
      "| 2021-02-20|        44039|\n",
      "| 2021-02-03|        40653|\n",
      "| 2021-02-19|        37577|\n",
      "+-----------+-------------+\n",
      "\n"
     ]
    },
    {
     "name": "stderr",
     "output_type": "stream",
     "text": [
      "\r",
      "                                                                                \r"
     ]
    }
   ],
   "source": [
    "# Trip starting on which day was the longest?\n",
    "\n",
    "query = \"\"\"\n",
    "    SELECT \n",
    "        DATE(pickup_datetime) as pickup_date\n",
    "        ,MAX(trip_duration) as trip_duration\n",
    "    FROM \n",
    "        fhvhv_tripdata \n",
    "    GROUP BY \n",
    "        pickup_date\n",
    "    ORDER BY \n",
    "        trip_duration DESC \n",
    "    LIMIT 5\n",
    "\"\"\"\n",
    "\n",
    "spark.sql(query).show()"
   ]
  },
  {
   "cell_type": "markdown",
   "id": "3bf36c8e",
   "metadata": {},
   "source": [
    "## Question 5. Most frequent dispatching_base_num"
   ]
  },
  {
   "cell_type": "code",
   "execution_count": 115,
   "id": "233f39fa",
   "metadata": {},
   "outputs": [
    {
     "name": "stderr",
     "output_type": "stream",
     "text": [
      "\r",
      "[Stage 136:>                                                        (0 + 4) / 4]\r"
     ]
    },
    {
     "name": "stdout",
     "output_type": "stream",
     "text": [
      "+--------------------+--------+\n",
      "|dispatching_base_num|count(1)|\n",
      "+--------------------+--------+\n",
      "|              B02510| 3233664|\n",
      "+--------------------+--------+\n",
      "\n"
     ]
    },
    {
     "name": "stderr",
     "output_type": "stream",
     "text": [
      "\r",
      "                                                                                \r"
     ]
    }
   ],
   "source": [
    "# Find the most frequently occurring dispatching_base_num in this dataset.\n",
    "\n",
    "query = \"\"\"\n",
    "    SELECT\n",
    "         dispatching_base_num\n",
    "        ,COUNT(1)\n",
    "    FROM fhvhv_tripdata t1\n",
    "    GROUP BY dispatching_base_num\n",
    "    ORDER BY COUNT(1) DESC LIMIT 1\n",
    "\"\"\"\n",
    "\n",
    "spark.sql(query).show()"
   ]
  },
  {
   "cell_type": "markdown",
   "id": "bb4ccc6a",
   "metadata": {},
   "source": [
    "## Question 6. Most common locations pair"
   ]
  },
  {
   "cell_type": "code",
   "execution_count": 52,
   "id": "f41423ca",
   "metadata": {},
   "outputs": [
    {
     "name": "stderr",
     "output_type": "stream",
     "text": [
      "                                                                                \r"
     ]
    },
    {
     "data": {
      "text/plain": [
       "[Row(pickup_dropoff='Crown Heights North / Crown Heights North', count=203777),\n",
       " Row(pickup_dropoff='East New York / East New York', count=166959),\n",
       " Row(pickup_dropoff='Bushwick South / Bushwick South', count=140636),\n",
       " Row(pickup_dropoff='East Village / East Village', count=137901),\n",
       " Row(pickup_dropoff='Central Harlem North / Central Harlem North', count=137246)]"
      ]
     },
     "execution_count": 52,
     "metadata": {},
     "output_type": "execute_result"
    }
   ],
   "source": [
    "# Readind zones lookup table\n",
    "df_zones = spark.read.parquet('/home/paulooctavio/data-engineering-zoomcamp/week_5_batch_processing/code/zones')\n",
    "df_zones.registerTempTable(\"zones\")\n",
    "\n",
    "# Join the zones table to the tripdata table\n",
    "query = \"\"\"\n",
    "    SELECT\n",
    "        coalesce(pu.Zone, 'Unknown') || ' / ' || coalesce(do.Zone, 'Unknown') as pickup_dropoff\n",
    "        ,COUNT(1) as count\n",
    "    FROM \n",
    "        fhvhv_tripdata fhv\n",
    "    LEFT JOIN \n",
    "        zones pu ON fhv.PULocationID = pu.LocationID\n",
    "    LEFT JOIN \n",
    "        zones do ON fhv.PULocationID = do.LocationID\n",
    "    GROUP BY \n",
    "        1\n",
    "    ORDER BY \n",
    "        2 DESC \n",
    "    LIMIT 5\n",
    "\"\"\"\n",
    "\n",
    "spark.sql(query).take(5)"
   ]
  }
 ],
 "metadata": {
  "kernelspec": {
   "display_name": "Python 3 (ipykernel)",
   "language": "python",
   "name": "python3"
  },
  "language_info": {
   "codemirror_mode": {
    "name": "ipython",
    "version": 3
   },
   "file_extension": ".py",
   "mimetype": "text/x-python",
   "name": "python",
   "nbconvert_exporter": "python",
   "pygments_lexer": "ipython3",
   "version": "3.9.12"
  }
 },
 "nbformat": 4,
 "nbformat_minor": 5
}
